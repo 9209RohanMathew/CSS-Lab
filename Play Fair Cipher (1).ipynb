{
 "cells": [
  {
   "cell_type": "code",
   "execution_count": 1,
   "id": "f8900360",
   "metadata": {},
   "outputs": [],
   "source": [
    "def create_matrix(key):\n",
    "    key = key.replace(\" \", \"\") \n",
    "    key = key.upper()\n",
    "    matrix = [[0 for i in range(5)] for j in range(5)]\n",
    "    text = []\n",
    "    row, col = 0, 0\n",
    "    for letter in key:\n",
    "        if letter not in text:\n",
    "            matrix[row][col] = letter\n",
    "            text.append(letter)\n",
    "        else:\n",
    "            continue\n",
    "        if col == 4:\n",
    "            col = 0\n",
    "            row = row + 1\n",
    "        else:\n",
    "            col = col + 1\n",
    "        \n",
    "    for letter in range(65, 91):\n",
    "        if letter == 74:\n",
    "            continue\n",
    "        if chr(letter) not in text:\n",
    "            text.append(chr(letter))\n",
    "    \n",
    "    index = 0\n",
    "    for i in range(5):\n",
    "        for j in range(5):\n",
    "            matrix[i][j] = text[index]\n",
    "            index = index + 1\n",
    "            \n",
    "    return matrix"
   ]
  },
  {
   "cell_type": "code",
   "execution_count": 2,
   "id": "87c7f695",
   "metadata": {},
   "outputs": [
    {
     "data": {
      "text/plain": [
       "[['P', 'L', 'A', 'Y', 'F'],\n",
       " ['I', 'R', 'E', 'X', 'M'],\n",
       " ['B', 'C', 'D', 'G', 'H'],\n",
       " ['K', 'N', 'O', 'Q', 'S'],\n",
       " ['T', 'U', 'V', 'W', 'Z']]"
      ]
     },
     "execution_count": 2,
     "metadata": {},
     "output_type": "execute_result"
    }
   ],
   "source": [
    "create_matrix(\"playfair example\")"
   ]
  },
  {
   "cell_type": "code",
   "execution_count": 3,
   "id": "b328987c",
   "metadata": {},
   "outputs": [],
   "source": [
    "def PlaintextConv(msg):\n",
    "    msg=msg.upper()\n",
    "    msg=msg.replace(\" \", \"\")             \n",
    "    for s in range(0,len(msg)+1,2):\n",
    "        if s<len(msg)-1:\n",
    "            if msg[s]==msg[s+1]:\n",
    "                msg=msg[:s+1]+'X'+msg[s+1:]\n",
    "    if len(msg)%2!=0:\n",
    "        msg=msg[:]+'X'\n",
    "    return msg"
   ]
  },
  {
   "cell_type": "code",
   "execution_count": 4,
   "id": "19f3d3f6",
   "metadata": {},
   "outputs": [
    {
     "data": {
      "text/plain": [
       "'HIDETHEGOLDINTHETREXESTUMP'"
      ]
     },
     "execution_count": 4,
     "metadata": {},
     "output_type": "execute_result"
    }
   ],
   "source": [
    "PlaintextConv(\"hide the gold in the tree stump\")"
   ]
  },
  {
   "cell_type": "code",
   "execution_count": 5,
   "id": "b5568e88",
   "metadata": {},
   "outputs": [],
   "source": [
    "def indexOf(letter,matrix):\n",
    "    for i in range (5):\n",
    "        try:\n",
    "            index = matrix[i].index(letter)\n",
    "            return (i,index)\n",
    "        except:\n",
    "            continue"
   ]
  },
  {
   "cell_type": "code",
   "execution_count": 6,
   "id": "3d0a8eaa",
   "metadata": {},
   "outputs": [],
   "source": [
    "def playfair(msg, key):\n",
    "    matrix = create_matrix(key)\n",
    "    msg = PlaintextConv(msg)\n",
    "    cipher = ''\n",
    "    for (l1, l2) in zip(msg[0::2],msg[1::2]):\n",
    "        row1, col1 = indexOf(l1, matrix)\n",
    "        row2, col2 = indexOf(l2, matrix)\n",
    "        if row1 == row2:\n",
    "            cipher = cipher + matrix[row1][(col1 + 1)%5] + matrix[row2][(col2 + 1)%5]\n",
    "        elif col1 == col2:\n",
    "            cipher = cipher + matrix[(row1 + 1)%5][col1] + matrix[(row2 + 1)%5][col2]\n",
    "        else:\n",
    "            cipher = cipher + matrix[row1][col2] +  matrix[row2][col1]\n",
    "            \n",
    "    return cipher"
   ]
  },
  {
   "cell_type": "code",
   "execution_count": 7,
   "id": "f34cf84c",
   "metadata": {},
   "outputs": [],
   "source": [
    "import math"
   ]
  },
  {
   "cell_type": "code",
   "execution_count": 8,
   "id": "d341b1b9",
   "metadata": {},
   "outputs": [],
   "source": [
    "def ColumnarTrans(msg,key):\n",
    "    cipher = \"\"\n",
    "    index = 0\n",
    "    key_lst = sorted(list(key))\n",
    "    msg_len, key_len = len(msg), len(key)\n",
    "    row = int(math.ceil(msg_len/key_len))\n",
    "    col = key_len\n",
    "    msg = list(msg)\n",
    "    fill_null = int((row * col) - msg_len)\n",
    "    msg.extend(' ' * fill_null)\n",
    "    matrix = [msg[i: i + col] for i in range(0, len(msg), col)]\n",
    "    for _ in range(col):\n",
    "        curr_idx = key.index(key_lst[index])\n",
    "        cipher += ''.join([row[curr_idx] for row in matrix])\n",
    "        index = index + 1\n",
    "        \n",
    "    return cipher.upper().replace(\" \", \"\")"
   ]
  },
  {
   "cell_type": "code",
   "execution_count": 9,
   "id": "15116a16",
   "metadata": {},
   "outputs": [
    {
     "name": "stdout",
     "output_type": "stream",
     "text": [
      "Enter Message : hide the gold in the tree stump\n",
      "Enter Key : playfair example\n",
      "Playfair CIpher Text : BMODZBXDNABEKUDMUIXMMOUVIF\n",
      "Enter Key : hack\n",
      "Product Cipher Text :  MBAUIOFOXBDXUBZNKUMIDDEMMV\n"
     ]
    }
   ],
   "source": [
    "msg = input(\"Enter Message : \")\n",
    "key1 = input(\"Enter Key : \")\n",
    "text1 = playfair(msg, key1)\n",
    "print(\"Playfair CIpher Text :\",text1)\n",
    "key2 = input(\"Enter Key : \")\n",
    "text2 = ColumnarTrans(text1, key2)\n",
    "print(\"Product Cipher Text : \",text2)"
   ]
  },
  {
   "cell_type": "code",
   "execution_count": null,
   "id": "f277abae",
   "metadata": {},
   "outputs": [],
   "source": []
  }
 ],
 "metadata": {
  "kernelspec": {
   "display_name": "Python 3 (ipykernel)",
   "language": "python",
   "name": "python3"
  },
  "language_info": {
   "codemirror_mode": {
    "name": "ipython",
    "version": 3
   },
   "file_extension": ".py",
   "mimetype": "text/x-python",
   "name": "python",
   "nbconvert_exporter": "python",
   "pygments_lexer": "ipython3",
   "version": "3.9.7"
  }
 },
 "nbformat": 4,
 "nbformat_minor": 5
}
